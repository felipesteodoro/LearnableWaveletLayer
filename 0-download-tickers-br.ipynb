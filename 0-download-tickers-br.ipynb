{
 "cells": [
  {
   "cell_type": "code",
   "execution_count": null,
   "id": "03fc084d",
   "metadata": {},
   "outputs": [
    {
     "ename": "",
     "evalue": "",
     "output_type": "error",
     "traceback": [
      "\u001b[1;31mA execução de células com '.conda (Python 3.11.13)' requer o pacote ipykernel.\n",
      "\u001b[1;31mInstale 'ipykernel' no ambiente Python. \n",
      "\u001b[1;31mComando: 'conda install -n .conda ipykernel --update-deps --force-reinstall'"
     ]
    }
   ],
   "source": [
    "# Instale as dependências necessárias\n",
    "try:\n",
    "    import yfinance as yf\n",
    "    import pandas as pd\n",
    "    import os\n",
    "except ImportError:\n",
    "    !pip install yfinance pandas\n",
    "    import yfinance as yf\n",
    "    import pandas as pd\n",
    "    import os\n",
    "\n",
    "# Lista dos 30 principais tickers da B3 (exemplo, ajuste conforme necessário)\n",
    "tickers = [\n",
    "    'PETR4.SA', 'VALE3.SA', 'ITUB4.SA', 'BBDC4.SA', 'ABEV3.SA', 'BBAS3.SA', 'B3SA3.SA',\n",
    "    'JBSS3.SA', 'GGBR4.SA', 'CSNA3.SA', 'USIM5.SA', 'BRFS3.SA', 'LREN3.SA', 'SUZB3.SA',\n",
    "    'ELET3.SA', 'ELET6.SA', 'RENT3.SA', 'WEGE3.SA', 'HYPE3.SA', 'RADL3.SA', 'MGLU3.SA',\n",
    "    'COGN3.SA', 'CYRE3.SA', 'EZTC3.SA', 'MRVE3.SA', 'MULT3.SA', 'UGPA3.SA', 'VIVT3.SA',\n",
    "    'CCRO3.SA', 'BRKM5.SA'\n",
    "]\n",
    "\n",
    "start_date = '2005-01-01'\n",
    "end_date = None  # até hoje\n",
    "\n",
    "# Cria a pasta 'data' se não existir\n",
    "os.makedirs('data', exist_ok=True)\n",
    "\n",
    "for ticker in tickers:\n",
    "    print(f'Baixando dados de {ticker}...')\n",
    "    df = yf.download(ticker, start=start_date, end=end_date)\n",
    "    df.to_csv(f'data/{ticker}.csv')\n",
    "print('Download concluído! Os arquivos CSV foram salvos na pasta data.')"
   ]
  }
 ],
 "metadata": {
  "kernelspec": {
   "display_name": ".conda",
   "language": "python",
   "name": "python3"
  },
  "language_info": {
   "name": "python",
   "version": "3.11.13"
  }
 },
 "nbformat": 4,
 "nbformat_minor": 5
}
