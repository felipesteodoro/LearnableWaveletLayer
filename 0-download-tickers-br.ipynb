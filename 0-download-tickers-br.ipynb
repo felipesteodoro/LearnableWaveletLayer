{
 "cells": [
  {
   "cell_type": "code",
   "execution_count": 2,
   "id": "03fc084d",
   "metadata": {},
   "outputs": [
    {
     "name": "stdout",
     "output_type": "stream",
     "text": [
      "Baixando dados de PETR4.SA...\n"
     ]
    },
    {
     "name": "stderr",
     "output_type": "stream",
     "text": [
      "[*********************100%***********************]  1 of 1 completed\n",
      "\n",
      "1 Failed download:\n",
      "['PETR4.SA']: YFRateLimitError('Too Many Requests. Rate limited. Try after a while.')\n",
      "\n",
      "\n",
      "1 Failed download:\n",
      "['PETR4.SA']: YFRateLimitError('Too Many Requests. Rate limited. Try after a while.')\n"
     ]
    },
    {
     "name": "stdout",
     "output_type": "stream",
     "text": [
      "Nenhum dado baixado para PETR4.SA. Pulando...\n",
      "Baixando dados de VALE3.SA...\n",
      "Baixando dados de VALE3.SA...\n"
     ]
    },
    {
     "name": "stderr",
     "output_type": "stream",
     "text": [
      "[*********************100%***********************]  1 of 1 completed\n",
      "\n",
      "1 Failed download:\n",
      "['VALE3.SA']: YFRateLimitError('Too Many Requests. Rate limited. Try after a while.')\n",
      "\n",
      "\n",
      "1 Failed download:\n",
      "['VALE3.SA']: YFRateLimitError('Too Many Requests. Rate limited. Try after a while.')\n"
     ]
    },
    {
     "name": "stdout",
     "output_type": "stream",
     "text": [
      "Nenhum dado baixado para VALE3.SA. Pulando...\n",
      "Baixando dados de ITUB4.SA...\n",
      "Baixando dados de ITUB4.SA...\n"
     ]
    },
    {
     "name": "stderr",
     "output_type": "stream",
     "text": [
      "[*********************100%***********************]  1 of 1 completed\n",
      "\n",
      "1 Failed download:\n",
      "['ITUB4.SA']: YFRateLimitError('Too Many Requests. Rate limited. Try after a while.')\n",
      "\n",
      "\n",
      "1 Failed download:\n",
      "['ITUB4.SA']: YFRateLimitError('Too Many Requests. Rate limited. Try after a while.')\n"
     ]
    },
    {
     "name": "stdout",
     "output_type": "stream",
     "text": [
      "Nenhum dado baixado para ITUB4.SA. Pulando...\n",
      "Baixando dados de BBDC4.SA...\n",
      "Baixando dados de BBDC4.SA...\n"
     ]
    },
    {
     "name": "stderr",
     "output_type": "stream",
     "text": [
      "[*********************100%***********************]  1 of 1 completed\n",
      "\n",
      "1 Failed download:\n",
      "['BBDC4.SA']: YFRateLimitError('Too Many Requests. Rate limited. Try after a while.')\n",
      "\n",
      "\n",
      "1 Failed download:\n",
      "['BBDC4.SA']: YFRateLimitError('Too Many Requests. Rate limited. Try after a while.')\n"
     ]
    },
    {
     "name": "stdout",
     "output_type": "stream",
     "text": [
      "Nenhum dado baixado para BBDC4.SA. Pulando...\n",
      "Baixando dados de ABEV3.SA...\n",
      "Baixando dados de ABEV3.SA...\n"
     ]
    },
    {
     "name": "stderr",
     "output_type": "stream",
     "text": [
      "[*********************100%***********************]  1 of 1 completed\n",
      "\n",
      "1 Failed download:\n",
      "['ABEV3.SA']: YFRateLimitError('Too Many Requests. Rate limited. Try after a while.')\n",
      "\n",
      "\n",
      "1 Failed download:\n",
      "['ABEV3.SA']: YFRateLimitError('Too Many Requests. Rate limited. Try after a while.')\n"
     ]
    },
    {
     "name": "stdout",
     "output_type": "stream",
     "text": [
      "Nenhum dado baixado para ABEV3.SA. Pulando...\n",
      "Baixando dados de BBAS3.SA...\n",
      "Baixando dados de BBAS3.SA...\n"
     ]
    },
    {
     "name": "stderr",
     "output_type": "stream",
     "text": [
      "Failed to get ticker 'BBAS3.SA' reason: HTTPSConnectionPool(host='query2.finance.yahoo.com', port=443): Read timed out. (read timeout=10)\n",
      "[*********************100%***********************]  1 of 1 completed\n",
      "\n",
      "1 Failed download:\n",
      "['BBAS3.SA']: YFTzMissingError('possibly delisted; no timezone found')\n",
      "[*********************100%***********************]  1 of 1 completed\n",
      "\n",
      "1 Failed download:\n",
      "['BBAS3.SA']: YFTzMissingError('possibly delisted; no timezone found')\n"
     ]
    },
    {
     "name": "stdout",
     "output_type": "stream",
     "text": [
      "Nenhum dado baixado para BBAS3.SA. Pulando...\n",
      "Baixando dados de B3SA3.SA...\n",
      "Baixando dados de B3SA3.SA...\n"
     ]
    },
    {
     "name": "stderr",
     "output_type": "stream",
     "text": [
      "Failed to get ticker 'B3SA3.SA' reason: HTTPSConnectionPool(host='guce.yahoo.com', port=443): Read timed out. (read timeout=30)\n",
      "[*********************100%***********************]  1 of 1 completed\n",
      "\n",
      "1 Failed download:\n",
      "['B3SA3.SA']: YFTzMissingError('possibly delisted; no timezone found')\n",
      "\n",
      "\n",
      "1 Failed download:\n",
      "['B3SA3.SA']: YFTzMissingError('possibly delisted; no timezone found')\n"
     ]
    },
    {
     "name": "stdout",
     "output_type": "stream",
     "text": [
      "Nenhum dado baixado para B3SA3.SA. Pulando...\n",
      "Baixando dados de JBSS3.SA...\n",
      "Baixando dados de JBSS3.SA...\n"
     ]
    },
    {
     "name": "stderr",
     "output_type": "stream",
     "text": [
      "Failed to get ticker 'JBSS3.SA' reason: ('Connection aborted.', RemoteDisconnected('Remote end closed connection without response'))\n",
      "[*********************100%***********************]  1 of 1 completed\n",
      "\n",
      "1 Failed download:\n",
      "[*********************100%***********************]  1 of 1 completed\n",
      "\n",
      "1 Failed download:\n",
      "['JBSS3.SA']: YFTzMissingError('possibly delisted; no timezone found')\n",
      "['JBSS3.SA']: YFTzMissingError('possibly delisted; no timezone found')\n"
     ]
    },
    {
     "name": "stdout",
     "output_type": "stream",
     "text": [
      "Nenhum dado baixado para JBSS3.SA. Pulando...\n",
      "Baixando dados de GGBR4.SA...\n",
      "Baixando dados de GGBR4.SA...\n"
     ]
    },
    {
     "name": "stderr",
     "output_type": "stream",
     "text": [
      "Failed to get ticker 'GGBR4.SA' reason: ('Connection aborted.', RemoteDisconnected('Remote end closed connection without response'))\n",
      "[*********************100%***********************]  1 of 1 completed\n",
      "\n",
      "1 Failed download:\n",
      "[*********************100%***********************]  1 of 1 completed\n",
      "\n",
      "1 Failed download:\n",
      "['GGBR4.SA']: YFTzMissingError('possibly delisted; no timezone found')\n",
      "['GGBR4.SA']: YFTzMissingError('possibly delisted; no timezone found')\n"
     ]
    },
    {
     "name": "stdout",
     "output_type": "stream",
     "text": [
      "Nenhum dado baixado para GGBR4.SA. Pulando...\n",
      "Baixando dados de CSNA3.SA...\n",
      "Baixando dados de CSNA3.SA...\n"
     ]
    },
    {
     "name": "stderr",
     "output_type": "stream",
     "text": [
      "Failed to get ticker 'CSNA3.SA' reason: ('Connection aborted.', RemoteDisconnected('Remote end closed connection without response'))\n",
      "[*********************100%***********************]  1 of 1 completed\n",
      "\n",
      "1 Failed download:\n",
      "['CSNA3.SA']: YFTzMissingError('possibly delisted; no timezone found')\n",
      "[*********************100%***********************]  1 of 1 completed\n",
      "\n",
      "1 Failed download:\n",
      "['CSNA3.SA']: YFTzMissingError('possibly delisted; no timezone found')\n"
     ]
    },
    {
     "name": "stdout",
     "output_type": "stream",
     "text": [
      "Nenhum dado baixado para CSNA3.SA. Pulando...\n",
      "Baixando dados de USIM5.SA...\n",
      "Baixando dados de USIM5.SA...\n"
     ]
    },
    {
     "name": "stderr",
     "output_type": "stream",
     "text": [
      "Failed to get ticker 'USIM5.SA' reason: HTTPSConnectionPool(host='guce.yahoo.com', port=443): Read timed out. (read timeout=30)\n",
      "[*********************100%***********************]  1 of 1 completed\n",
      "\n",
      "1 Failed download:\n",
      "['USIM5.SA']: possibly delisted; no timezone found\n",
      "[*********************100%***********************]  1 of 1 completed\n",
      "\n",
      "1 Failed download:\n",
      "['USIM5.SA']: possibly delisted; no timezone found\n"
     ]
    },
    {
     "name": "stdout",
     "output_type": "stream",
     "text": [
      "Nenhum dado baixado para USIM5.SA. Pulando...\n",
      "Baixando dados de BRFS3.SA...\n",
      "Baixando dados de BRFS3.SA...\n"
     ]
    },
    {
     "name": "stderr",
     "output_type": "stream",
     "text": [
      "Failed to get ticker 'BRFS3.SA' reason: HTTPSConnectionPool(host='br.search.yahoo.com', port=443): Read timed out. (read timeout=30)\n",
      "[*********************100%***********************]  1 of 1 completed\n",
      "\n",
      "1 Failed download:\n",
      "['BRFS3.SA']: YFTzMissingError('possibly delisted; no timezone found')\n",
      "[*********************100%***********************]  1 of 1 completed\n",
      "\n",
      "1 Failed download:\n",
      "['BRFS3.SA']: YFTzMissingError('possibly delisted; no timezone found')\n"
     ]
    },
    {
     "name": "stdout",
     "output_type": "stream",
     "text": [
      "Nenhum dado baixado para BRFS3.SA. Pulando...\n",
      "Baixando dados de LREN3.SA...\n",
      "Baixando dados de LREN3.SA...\n"
     ]
    },
    {
     "name": "stderr",
     "output_type": "stream",
     "text": [
      "Failed to get ticker 'LREN3.SA' reason: HTTPSConnectionPool(host='guce.yahoo.com', port=443): Read timed out. (read timeout=30)\n",
      "[*********************100%***********************]  1 of 1 completed\n",
      "\n",
      "1 Failed download:\n",
      "['LREN3.SA']: YFTzMissingError('possibly delisted; no timezone found')\n",
      "[*********************100%***********************]  1 of 1 completed\n",
      "\n",
      "1 Failed download:\n",
      "['LREN3.SA']: YFTzMissingError('possibly delisted; no timezone found')\n"
     ]
    },
    {
     "name": "stdout",
     "output_type": "stream",
     "text": [
      "Nenhum dado baixado para LREN3.SA. Pulando...\n",
      "Baixando dados de SUZB3.SA...\n",
      "Baixando dados de SUZB3.SA...\n"
     ]
    },
    {
     "name": "stderr",
     "output_type": "stream",
     "text": [
      "Failed to get ticker 'SUZB3.SA' reason: ('Connection aborted.', RemoteDisconnected('Remote end closed connection without response'))\n",
      "[*********************100%***********************]  1 of 1 completed\n",
      "\n",
      "1 Failed download:\n",
      "['SUZB3.SA']: YFTzMissingError('possibly delisted; no timezone found')\n",
      "[*********************100%***********************]  1 of 1 completed\n",
      "\n",
      "1 Failed download:\n",
      "['SUZB3.SA']: YFTzMissingError('possibly delisted; no timezone found')\n"
     ]
    },
    {
     "name": "stdout",
     "output_type": "stream",
     "text": [
      "Nenhum dado baixado para SUZB3.SA. Pulando...\n",
      "Baixando dados de ELET3.SA...\n",
      "Baixando dados de ELET3.SA...\n"
     ]
    },
    {
     "name": "stderr",
     "output_type": "stream",
     "text": [
      "Failed to get ticker 'ELET3.SA' reason: HTTPSConnectionPool(host='guce.yahoo.com', port=443): Read timed out. (read timeout=30)\n",
      "[*********************100%***********************]  1 of 1 completed\n",
      "\n",
      "1 Failed download:\n",
      "[*********************100%***********************]  1 of 1 completed\n",
      "\n",
      "1 Failed download:\n",
      "['ELET3.SA']: YFTzMissingError('possibly delisted; no timezone found')\n",
      "['ELET3.SA']: YFTzMissingError('possibly delisted; no timezone found')\n"
     ]
    },
    {
     "name": "stdout",
     "output_type": "stream",
     "text": [
      "Nenhum dado baixado para ELET3.SA. Pulando...\n",
      "Baixando dados de ELET6.SA...\n",
      "Baixando dados de ELET6.SA...\n"
     ]
    },
    {
     "name": "stderr",
     "output_type": "stream",
     "text": [
      "Failed to get ticker 'ELET6.SA' reason: ('Connection aborted.', RemoteDisconnected('Remote end closed connection without response'))\n",
      "[*********************100%***********************]  1 of 1 completed\n",
      "\n",
      "1 Failed download:\n",
      "['ELET6.SA']: YFTzMissingError('possibly delisted; no timezone found')\n",
      "\n",
      "\n",
      "1 Failed download:\n",
      "['ELET6.SA']: YFTzMissingError('possibly delisted; no timezone found')\n"
     ]
    },
    {
     "name": "stdout",
     "output_type": "stream",
     "text": [
      "Nenhum dado baixado para ELET6.SA. Pulando...\n",
      "Baixando dados de RENT3.SA...\n",
      "Baixando dados de RENT3.SA...\n"
     ]
    },
    {
     "name": "stderr",
     "output_type": "stream",
     "text": [
      "Failed to get ticker 'RENT3.SA' reason: HTTPSConnectionPool(host='guce.yahoo.com', port=443): Read timed out. (read timeout=30)\n",
      "[*********************100%***********************]  1 of 1 completed\n",
      "\n",
      "1 Failed download:\n",
      "['RENT3.SA']: YFTzMissingError('possibly delisted; no timezone found')\n",
      "[*********************100%***********************]  1 of 1 completed\n",
      "\n",
      "1 Failed download:\n",
      "['RENT3.SA']: YFTzMissingError('possibly delisted; no timezone found')\n"
     ]
    },
    {
     "name": "stdout",
     "output_type": "stream",
     "text": [
      "Nenhum dado baixado para RENT3.SA. Pulando...\n",
      "Baixando dados de WEGE3.SA...\n",
      "Baixando dados de WEGE3.SA...\n"
     ]
    },
    {
     "name": "stderr",
     "output_type": "stream",
     "text": [
      "Failed to get ticker 'WEGE3.SA' reason: ('Connection aborted.', RemoteDisconnected('Remote end closed connection without response'))\n",
      "[*********************100%***********************]  1 of 1 completed\n",
      "\n",
      "1 Failed download:\n",
      "[*********************100%***********************]  1 of 1 completed\n",
      "\n",
      "1 Failed download:\n",
      "['WEGE3.SA']: YFTzMissingError('possibly delisted; no timezone found')\n",
      "['WEGE3.SA']: YFTzMissingError('possibly delisted; no timezone found')\n"
     ]
    },
    {
     "name": "stdout",
     "output_type": "stream",
     "text": [
      "Nenhum dado baixado para WEGE3.SA. Pulando...\n",
      "Baixando dados de HYPE3.SA...\n",
      "Baixando dados de HYPE3.SA...\n"
     ]
    },
    {
     "name": "stderr",
     "output_type": "stream",
     "text": [
      "[*********************100%***********************]  1 of 1 completed\n",
      "\n",
      "1 Failed download:\n",
      "['HYPE3.SA']: YFRateLimitError('Too Many Requests. Rate limited. Try after a while.')\n",
      "\n",
      "\n",
      "1 Failed download:\n",
      "['HYPE3.SA']: YFRateLimitError('Too Many Requests. Rate limited. Try after a while.')\n"
     ]
    },
    {
     "name": "stdout",
     "output_type": "stream",
     "text": [
      "Nenhum dado baixado para HYPE3.SA. Pulando...\n",
      "Baixando dados de RADL3.SA...\n",
      "Baixando dados de RADL3.SA...\n"
     ]
    },
    {
     "name": "stderr",
     "output_type": "stream",
     "text": [
      "[*********************100%***********************]  1 of 1 completed\n",
      "\n",
      "1 Failed download:\n",
      "['RADL3.SA']: YFRateLimitError('Too Many Requests. Rate limited. Try after a while.')\n",
      "\n",
      "\n",
      "1 Failed download:\n",
      "['RADL3.SA']: YFRateLimitError('Too Many Requests. Rate limited. Try after a while.')\n"
     ]
    },
    {
     "name": "stdout",
     "output_type": "stream",
     "text": [
      "Nenhum dado baixado para RADL3.SA. Pulando...\n",
      "Baixando dados de MGLU3.SA...\n",
      "Baixando dados de MGLU3.SA...\n"
     ]
    },
    {
     "name": "stderr",
     "output_type": "stream",
     "text": [
      "[*********************100%***********************]  1 of 1 completed\n",
      "\n",
      "1 Failed download:\n",
      "['MGLU3.SA']: YFRateLimitError('Too Many Requests. Rate limited. Try after a while.')\n",
      "\n",
      "\n",
      "1 Failed download:\n",
      "['MGLU3.SA']: YFRateLimitError('Too Many Requests. Rate limited. Try after a while.')\n"
     ]
    },
    {
     "name": "stdout",
     "output_type": "stream",
     "text": [
      "Nenhum dado baixado para MGLU3.SA. Pulando...\n",
      "Baixando dados de COGN3.SA...\n",
      "Baixando dados de COGN3.SA...\n"
     ]
    },
    {
     "name": "stderr",
     "output_type": "stream",
     "text": [
      "[*********************100%***********************]  1 of 1 completed\n",
      "\n",
      "1 Failed download:\n",
      "['COGN3.SA']: YFRateLimitError('Too Many Requests. Rate limited. Try after a while.')\n",
      "\n",
      "\n",
      "1 Failed download:\n",
      "['COGN3.SA']: YFRateLimitError('Too Many Requests. Rate limited. Try after a while.')\n"
     ]
    },
    {
     "name": "stdout",
     "output_type": "stream",
     "text": [
      "Nenhum dado baixado para COGN3.SA. Pulando...\n",
      "Baixando dados de CYRE3.SA...\n",
      "Baixando dados de CYRE3.SA...\n"
     ]
    },
    {
     "name": "stderr",
     "output_type": "stream",
     "text": [
      "[*********************100%***********************]  1 of 1 completed\n",
      "\n",
      "1 Failed download:\n",
      "['CYRE3.SA']: YFRateLimitError('Too Many Requests. Rate limited. Try after a while.')\n",
      "\n",
      "\n",
      "1 Failed download:\n",
      "['CYRE3.SA']: YFRateLimitError('Too Many Requests. Rate limited. Try after a while.')\n"
     ]
    },
    {
     "name": "stdout",
     "output_type": "stream",
     "text": [
      "Nenhum dado baixado para CYRE3.SA. Pulando...\n",
      "Baixando dados de EZTC3.SA...\n",
      "Baixando dados de EZTC3.SA...\n"
     ]
    },
    {
     "name": "stderr",
     "output_type": "stream",
     "text": [
      "[*********************100%***********************]  1 of 1 completed\n",
      "\n",
      "1 Failed download:\n",
      "['EZTC3.SA']: YFRateLimitError('Too Many Requests. Rate limited. Try after a while.')\n",
      "\n",
      "\n",
      "1 Failed download:\n",
      "['EZTC3.SA']: YFRateLimitError('Too Many Requests. Rate limited. Try after a while.')\n"
     ]
    },
    {
     "name": "stdout",
     "output_type": "stream",
     "text": [
      "Nenhum dado baixado para EZTC3.SA. Pulando...\n",
      "Baixando dados de MRVE3.SA...\n",
      "Baixando dados de MRVE3.SA...\n"
     ]
    },
    {
     "name": "stderr",
     "output_type": "stream",
     "text": [
      "[*********************100%***********************]  1 of 1 completed\n",
      "\n",
      "1 Failed download:\n",
      "['MRVE3.SA']: YFRateLimitError('Too Many Requests. Rate limited. Try after a while.')\n",
      "\n",
      "\n",
      "1 Failed download:\n",
      "['MRVE3.SA']: YFRateLimitError('Too Many Requests. Rate limited. Try after a while.')\n"
     ]
    },
    {
     "name": "stdout",
     "output_type": "stream",
     "text": [
      "Nenhum dado baixado para MRVE3.SA. Pulando...\n",
      "Baixando dados de MULT3.SA...\n",
      "Baixando dados de MULT3.SA...\n"
     ]
    },
    {
     "name": "stderr",
     "output_type": "stream",
     "text": [
      "[*********************100%***********************]  1 of 1 completed\n",
      "\n",
      "1 Failed download:\n",
      "['MULT3.SA']: YFRateLimitError('Too Many Requests. Rate limited. Try after a while.')\n",
      "\n",
      "\n",
      "1 Failed download:\n",
      "['MULT3.SA']: YFRateLimitError('Too Many Requests. Rate limited. Try after a while.')\n"
     ]
    },
    {
     "name": "stdout",
     "output_type": "stream",
     "text": [
      "Nenhum dado baixado para MULT3.SA. Pulando...\n",
      "Baixando dados de UGPA3.SA...\n",
      "Baixando dados de UGPA3.SA...\n"
     ]
    },
    {
     "name": "stderr",
     "output_type": "stream",
     "text": [
      "[*********************100%***********************]  1 of 1 completed\n",
      "\n",
      "1 Failed download:\n",
      "['UGPA3.SA']: YFRateLimitError('Too Many Requests. Rate limited. Try after a while.')\n",
      "\n",
      "\n",
      "1 Failed download:\n",
      "['UGPA3.SA']: YFRateLimitError('Too Many Requests. Rate limited. Try after a while.')\n"
     ]
    },
    {
     "name": "stdout",
     "output_type": "stream",
     "text": [
      "Nenhum dado baixado para UGPA3.SA. Pulando...\n",
      "Baixando dados de VIVT3.SA...\n",
      "Baixando dados de VIVT3.SA...\n"
     ]
    },
    {
     "name": "stderr",
     "output_type": "stream",
     "text": [
      "[*********************100%***********************]  1 of 1 completed\n",
      "\n",
      "1 Failed download:\n",
      "['VIVT3.SA']: YFRateLimitError('Too Many Requests. Rate limited. Try after a while.')\n",
      "\n",
      "\n",
      "1 Failed download:\n",
      "['VIVT3.SA']: YFRateLimitError('Too Many Requests. Rate limited. Try after a while.')\n"
     ]
    },
    {
     "name": "stdout",
     "output_type": "stream",
     "text": [
      "Nenhum dado baixado para VIVT3.SA. Pulando...\n",
      "Baixando dados de CCRO3.SA...\n",
      "Baixando dados de CCRO3.SA...\n"
     ]
    },
    {
     "name": "stderr",
     "output_type": "stream",
     "text": [
      "[*********************100%***********************]  1 of 1 completed\n",
      "\n",
      "1 Failed download:\n",
      "['CCRO3.SA']: YFRateLimitError('Too Many Requests. Rate limited. Try after a while.')\n",
      "\n",
      "\n",
      "1 Failed download:\n",
      "['CCRO3.SA']: YFRateLimitError('Too Many Requests. Rate limited. Try after a while.')\n"
     ]
    },
    {
     "name": "stdout",
     "output_type": "stream",
     "text": [
      "Nenhum dado baixado para CCRO3.SA. Pulando...\n",
      "Baixando dados de BRKM5.SA...\n",
      "Baixando dados de BRKM5.SA...\n"
     ]
    },
    {
     "name": "stderr",
     "output_type": "stream",
     "text": [
      "[*********************100%***********************]  1 of 1 completed\n",
      "\n",
      "1 Failed download:\n",
      "['BRKM5.SA']: YFRateLimitError('Too Many Requests. Rate limited. Try after a while.')\n",
      "\n",
      "\n",
      "1 Failed download:\n",
      "['BRKM5.SA']: YFRateLimitError('Too Many Requests. Rate limited. Try after a while.')\n"
     ]
    },
    {
     "name": "stdout",
     "output_type": "stream",
     "text": [
      "Nenhum dado baixado para BRKM5.SA. Pulando...\n",
      "Processo finalizado! Os arquivos CSV válidos foram salvos na pasta data.\n",
      "Processo finalizado! Os arquivos CSV válidos foram salvos na pasta data.\n"
     ]
    }
   ],
   "source": [
    "# Instale as dependências necessárias\n",
    "try:\n",
    "    import yfinance as yf\n",
    "    import pandas as pd\n",
    "    import os\n",
    "    import time\n",
    "except ImportError:\n",
    "    !pip install yfinance pandas\n",
    "    import yfinance as yf\n",
    "    import pandas as pd\n",
    "    import os\n",
    "    import time\n",
    "\n",
    "# Lista dos 30 principais tickers da B3 (exemplo, ajuste conforme necessário)\n",
    "tickers = [\n",
    "    'PETR4.SA', 'VALE3.SA', 'ITUB4.SA', 'BBDC4.SA', 'ABEV3.SA', 'BBAS3.SA', 'B3SA3.SA',\n",
    "    'JBSS3.SA', 'GGBR4.SA', 'CSNA3.SA', 'USIM5.SA', 'BRFS3.SA', 'LREN3.SA', 'SUZB3.SA',\n",
    "    'ELET3.SA', 'ELET6.SA', 'RENT3.SA', 'WEGE3.SA', 'HYPE3.SA', 'RADL3.SA', 'MGLU3.SA',\n",
    "    'COGN3.SA', 'CYRE3.SA', 'EZTC3.SA', 'MRVE3.SA', 'MULT3.SA', 'UGPA3.SA', 'VIVT3.SA',\n",
    "    'CCRO3.SA', 'BRKM5.SA'\n",
    "]\n",
    "\n",
    "start_date = '2005-01-01'\n",
    "end_date = None  # até hoje\n",
    "\n",
    "# Cria a pasta 'data' se não existir\n",
    "os.makedirs('data', exist_ok=True)\n",
    "\n",
    "for ticker in tickers:\n",
    "    print(f'Baixando dados de {ticker}...')\n",
    "    tentativas = 0\n",
    "    while tentativas < 5:\n",
    "        try:\n",
    "            df = yf.download(ticker, start=start_date, end=end_date)\n",
    "            if not df.empty:\n",
    "                df.to_csv(f'data/{ticker}.csv')\n",
    "                print(f'Download de {ticker} concluído.')\n",
    "            else:\n",
    "                print(f'Nenhum dado baixado para {ticker}. Pulando...')\n",
    "                time.sleep(300)\n",
    "            break\n",
    "        except Exception as e:\n",
    "            print(f'Erro ao baixar {ticker}: {e}. Tentando novamente em 5 minutos...')\n",
    "            tentativas += 1\n",
    "            time.sleep(300)\n",
    "print('Processo finalizado! Os arquivos CSV válidos foram salvos na pasta data.')"
   ]
  }
 ],
 "metadata": {
  "kernelspec": {
   "display_name": "api",
   "language": "python",
   "name": "python3"
  },
  "language_info": {
   "codemirror_mode": {
    "name": "ipython",
    "version": 3
   },
   "file_extension": ".py",
   "mimetype": "text/x-python",
   "name": "python",
   "nbconvert_exporter": "python",
   "pygments_lexer": "ipython3",
   "version": "3.11.3"
  }
 },
 "nbformat": 4,
 "nbformat_minor": 5
}
